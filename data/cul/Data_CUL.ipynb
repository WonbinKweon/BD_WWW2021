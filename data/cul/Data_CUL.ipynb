{
 "cells": [
  {
   "cell_type": "code",
   "execution_count": 1,
   "metadata": {},
   "outputs": [],
   "source": [
    "import numpy as np\n",
    "import torch\n",
    "import torch.nn as nn\n",
    "import pandas as pd\n",
    "from torch.autograd import Variable\n",
    "import random\n",
    "import torch.optim as optim\n",
    "import pickle\n",
    "import torch.utils.data\n",
    "from torch.backends import cudnn\n",
    "from scipy.sparse import csr_matrix\n",
    "import math\n",
    "import bottleneck as bn"
   ]
  },
  {
   "cell_type": "code",
   "execution_count": 2,
   "metadata": {},
   "outputs": [
    {
     "name": "stdout",
     "output_type": "stream",
     "text": [
      "142807\n",
      "7946\n",
      "25974\n"
     ]
    }
   ],
   "source": [
    "# load data\n",
    "dir = 'cul/users.dat'\n",
    "rating_raw = pd.read_csv(dir, engine='python', header=None)\n",
    "rating_raw['user'] = rating_raw.index\n",
    "rating_raw.columns = ['i', 'u']\n",
    "\n",
    "count = 0\n",
    "num_users = 0\n",
    "num_items = 0\n",
    "for idx, row in rating_raw.iterrows():\n",
    "    items = row.i.split()\n",
    "    count += len(items)\n",
    "    \n",
    "    for item in items:\n",
    "        if num_items < int(item):\n",
    "            num_items = int(item)\n",
    "            \n",
    "    if num_users < int(row.u):\n",
    "        num_users = int(row.u)\n",
    "        \n",
    "print(count)\n",
    "print(num_users)\n",
    "print(num_items)\n",
    "\n",
    "pairs = []\n",
    "for idx, row in rating_raw.iterrows():\n",
    "    items = row.i.split()\n",
    "    for item in items:\n",
    "        pairs.append((int(row.u), int(item)))\n",
    "pairs = np.array(pairs)\n",
    "rating_bi = pd.DataFrame(pairs, columns=['u', 'i'])"
   ]
  },
  {
   "cell_type": "code",
   "execution_count": null,
   "metadata": {},
   "outputs": [],
   "source": [
    "# delete users whose interactions < \n",
    "inter = 0\n",
    "rating_bi = rating_bi.groupby('u').filter(lambda x: len(x) > inter)\n",
    "rating_bi = rating_bi[rating_bi.columns[0:2]]\n",
    "rating_bi = rating_bi.reset_index().drop(columns = ['index'])\n",
    "\n",
    "# delete ghost user, item\n",
    "u = rating_bi.u.unique().tolist()\n",
    "i = rating_bi.i.unique().tolist()\n",
    "u.sort()\n",
    "i.sort()\n",
    "\n",
    "idxi = np.zeros(max(i)+1).astype('int')\n",
    "for item in i:\n",
    "    idxi[item] = i.index(item)\n",
    "idxu = np.zeros(max(u)+1).astype('int')\n",
    "for user in u:\n",
    "    idxu[user] = u.index(user)\n",
    "    \n",
    "rating_bi['u'] = rating_bi['u'].apply(lambda x: idxu[x])\n",
    "rating_bi['i'] = rating_bi['i'].apply(lambda x: idxi[x])"
   ]
  },
  {
   "cell_type": "code",
   "execution_count": null,
   "metadata": {},
   "outputs": [],
   "source": [
    "pairs = rating_bi.to_numpy()\n",
    "\n",
    "u_val = {}\n",
    "u_test = {}\n",
    "\n",
    "u = -1\n",
    "ii = -1\n",
    "i = -1\n",
    "for row in pairs:\n",
    "    if row[0] != u:\n",
    "        if u != -1:\n",
    "            u_val[u] = ii\n",
    "            u_test[u] = i\n",
    "            \n",
    "        u = row[0]\n",
    "    ii = i\n",
    "    i = row[1]\n",
    "u_val[u] = ii\n",
    "u_test[u] = i\n",
    "\n",
    "users = list(u_val.keys())\n",
    "pairs_val = np.zeros((len(users),2))\n",
    "for i in range(len(users)):\n",
    "    pairs_val[i][0] = users[i]\n",
    "    pairs_val[i][1] = u_val[users[i]]\n",
    "pairs_test = np.zeros((len(users),2))\n",
    "for i in range(len(users)):\n",
    "    pairs_test[i][0] = users[i]\n",
    "    pairs_test[i][1] = u_test[users[i]]"
   ]
  },
  {
   "cell_type": "code",
   "execution_count": null,
   "metadata": {},
   "outputs": [],
   "source": [
    "del_list = []\n",
    "for i in range(len(pairs)):\n",
    "    if pairs[i][1] == u_val[pairs[i][0]]:\n",
    "        del_list.append(i)\n",
    "    if pairs[i][1] == u_test[pairs[i][0]]:\n",
    "        del_list.append(i)\n",
    "\n",
    "pairs_train = np.delete(pairs, del_list, 0)\n",
    "np.random.shuffle(pairs_train)\n",
    "\n",
    "num_users = pairs[:, 0].max() + 1\n",
    "num_items = pairs[:, 1].max() + 1\n",
    "\n",
    "train_matrix = np.zeros((int(num_users), int(num_items)), dtype=int)\n",
    "for row in pairs:\n",
    "    train_matrix[int(row[0]), int(row[1])] = 1\n",
    "    \n",
    "train_nei = {}\n",
    "u = -1\n",
    "nei = []\n",
    "for row in pairs:\n",
    "    if row[0] != u:\n",
    "        if u != -1:\n",
    "            train_nei[u] = nei\n",
    "        u = row[0]\n",
    "        nei = []\n",
    "    nei.append(row[1])"
   ]
  },
  {
   "cell_type": "code",
   "execution_count": null,
   "metadata": {},
   "outputs": [],
   "source": [
    "torch.save(torch.LongTensor(pairs_train), 'cul/train_'  + str(inter) + '.pt')\n",
    "torch.save(torch.LongTensor(pairs_val), 'cul/val_'  + str(inter) + '.pt')\n",
    "torch.save(torch.LongTensor(pairs_test), 'cul/test_'  + str(inter) + '.pt')\n",
    "torch.save(torch.LongTensor(train_matrix), 'cul/train_matrix_'  + str(inter) + '.pt')\n",
    "np.save('cul/train_nei_'  + str(inter), train_nei)"
   ]
  },
  {
   "cell_type": "code",
   "execution_count": null,
   "metadata": {},
   "outputs": [],
   "source": []
  },
  {
   "cell_type": "code",
   "execution_count": null,
   "metadata": {},
   "outputs": [],
   "source": [
    "inter = 5\n",
    "train = torch.load('cul/train_' + str(inter) + '.pt')\n",
    "val = torch.load('cul/val_' + str(inter) + '.pt')\n",
    "test = torch.load('cul/test_' + str(inter) + '.pt')\n",
    "\n",
    "train_matrix = torch.load('cul/train_matrix_' + str(inter) + '.pt')\n",
    "train_nei = np.load('cul/train_nei_' + str(inter) + '.npy').item()\n",
    "\n",
    "num_users = train_matrix.size()[0]\n",
    "num_items = train_matrix.size()[1]\n",
    "\n",
    "print(num_users)\n",
    "print(num_items)\n",
    "print(train.size()[0]+val.size()[0]*2)"
   ]
  },
  {
   "cell_type": "code",
   "execution_count": null,
   "metadata": {},
   "outputs": [],
   "source": [
    "# for neg_sample\n",
    "matrix = train_matrix.numpy()\n",
    "neg_max = num_items - min(np.sum(matrix, axis = 1))\n",
    "neg_count = neg_max - np.sum(matrix, axis = 1)\n",
    "\n",
    "i, j = np.where(matrix == 0)\n",
    "user = 0\n",
    "count = 0\n",
    "negs = []\n",
    "for index, idx in enumerate(i):\n",
    "    if user < idx:\n",
    "        user = idx\n",
    "        neg = j[count:index].tolist()\n",
    "        neg += [-1]*(int(neg_max)-len(neg))\n",
    "        negs.append(neg)\n",
    "        count = index \n",
    "neg = j[count:].tolist()\n",
    "neg += [-1]*(int(neg_max)-len(neg))        \n",
    "negs.append(neg)\n",
    "negs_np = np.array(negs)"
   ]
  },
  {
   "cell_type": "code",
   "execution_count": null,
   "metadata": {},
   "outputs": [],
   "source": [
    "np.save('cul/negs_np_'  + str(inter), negs_np)\n",
    "np.save('cul/neg_count_'  + str(inter), neg_count)"
   ]
  },
  {
   "cell_type": "code",
   "execution_count": null,
   "metadata": {},
   "outputs": [],
   "source": []
  }
 ],
 "metadata": {
  "kernelspec": {
   "display_name": "Python 3",
   "language": "python",
   "name": "python3"
  },
  "language_info": {
   "codemirror_mode": {
    "name": "ipython",
    "version": 3
   },
   "file_extension": ".py",
   "mimetype": "text/x-python",
   "name": "python",
   "nbconvert_exporter": "python",
   "pygments_lexer": "ipython3",
   "version": "3.7.1"
  }
 },
 "nbformat": 4,
 "nbformat_minor": 2
}
